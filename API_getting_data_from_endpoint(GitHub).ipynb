{
  "nbformat": 4,
  "nbformat_minor": 0,
  "metadata": {
    "colab": {
      "provenance": [],
      "authorship_tag": "ABX9TyOPmO6k5HWXLU9c39830mLT",
      "include_colab_link": true
    },
    "kernelspec": {
      "name": "python3",
      "display_name": "Python 3"
    },
    "language_info": {
      "name": "python"
    }
  },
  "cells": [
    {
      "cell_type": "markdown",
      "metadata": {
        "id": "view-in-github",
        "colab_type": "text"
      },
      "source": [
        "<a href=\"https://colab.research.google.com/github/BumaranChe/Python_API_Getting_Data_From_Endpoint/blob/main/API_getting_data_from_endpoint(GitHub).ipynb\" target=\"_parent\"><img src=\"https://colab.research.google.com/assets/colab-badge.svg\" alt=\"Open In Colab\"/></a>"
      ]
    },
    {
      "cell_type": "markdown",
      "source": [
        "# **API (How it works):**\n",
        "\n",
        "Usually when you are fetching data from a database, you will send a HTTP request (requesting data) through an endpoint (URL).\n",
        "\n",
        "Sample 1 using \"method\" and sample 2 using \"for\"."
      ],
      "metadata": {
        "id": "Aj2AhhzujWQ3"
      }
    },
    {
      "cell_type": "markdown",
      "source": [
        "**Sample 1:**\n",
        "\n",
        "PokéAPI (Pokémon Data)\n",
        "\n",
        "\n",
        "Official API Documentation: https://pokeapi.co/docs/v2\n",
        "\n",
        "Specific Endpoint for this task: https://pokeapi.co/api/v2/pokemon/{pokemon name or id}\n",
        "\n",
        "Pokemon names --> \"pikachu\", \"bulbasaur\", \"charmander\"\n",
        "\n",
        "Let's use a method to perform API requests to get their name, types, and abilities of \"pikachu\", \"bulbasaur\", \"charmander\""
      ],
      "metadata": {
        "id": "9wOJSB72ciVd"
      }
    },
    {
      "cell_type": "code",
      "execution_count": 4,
      "metadata": {
        "colab": {
          "base_uri": "https://localhost:8080/"
        },
        "id": "haMPLVa7cFEI",
        "outputId": "3515520e-9bad-4d10-8ae5-dfec978e5cb6"
      },
      "outputs": [
        {
          "output_type": "stream",
          "name": "stdout",
          "text": [
            "Name: Pikachu\n",
            "Types: ['electric']\n",
            "Abilities: ['static', 'lightning-rod']\n",
            "---\n",
            "Name: Bulbasaur\n",
            "Types: ['grass', 'poison']\n",
            "Abilities: ['overgrow', 'chlorophyll']\n",
            "---\n",
            "Name: Charmander\n",
            "Types: ['fire']\n",
            "Abilities: ['blaze', 'solar-power']\n",
            "---\n"
          ]
        }
      ],
      "source": [
        "import requests\n",
        "\n",
        "def pokemon_names(pokemon_characters):\n",
        "\n",
        "    endpoint = f\"https://pokeapi.co/api/v2/pokemon/{pokemon_characters}\"\n",
        "    response = requests.get(endpoint)\n",
        "    pokemon_raw_data = response.json()\n",
        "#   based on documentation, this list out all the data at endpoint\n",
        "\n",
        "########## Code to print the entire raw data from end-point######################\n",
        "#    for key, value in pokemon_raw_data.items():\n",
        "#      print(f\"Key: {key}, Value: {value}\")\n",
        "#    print(pokemon_raw_data)\n",
        "\n",
        "#################################################################################\n",
        "    if response.status_code==200:\n",
        "      return response.json()\n",
        "    else:\n",
        "      print(f\"Error:{response.status_code}\")\n",
        "      return None\n",
        "pokemon_pika=pokemon_names(\"pikachu\")\n",
        "print(f\"Name: {pokemon_pika['name'].capitalize()}\") # based on documentation, this provide information on the provided pokemon name\n",
        "print(\"Types:\", [type_info['type']['name'] for type_info in pokemon_pika['types']]) ## based on documentation this provide the information under \"types\" --> \"type\" and \"name\"\n",
        "print(\"Abilities:\", [ability['ability']['name'] for ability in pokemon_pika['abilities']]) ## based on documentation this provide the information under \"abilities\" -->> \"ability\" and \"name\"\n",
        "print('---')\n",
        "\n",
        "pokemon_bul=pokemon_names(\"bulbasaur\")\n",
        "print(f\"Name: {pokemon_bul['name'].capitalize()}\") # based on documentation, this provide information on the provided pokemon name\n",
        "print(\"Types:\", [type_info['type']['name'] for type_info in pokemon_bul['types']]) ## based on documentation this provide the information under \"types\" --> \"type\" and \"name\"\n",
        "print(\"Abilities:\", [ability['ability']['name'] for ability in pokemon_bul['abilities']]) ## based on documentation this provide the information under \"abilities\" -->> \"ability\" and \"name\"\n",
        "print('---')\n",
        "\n",
        "pokemon_char=pokemon_names(\"charmander\")\n",
        "print(f\"Name: {pokemon_char['name'].capitalize()}\") # based on documentation, this provide information on the provided pokemon name\n",
        "print(\"Types:\", [type_info['type']['name'] for type_info in pokemon_char['types']])## based on documentation this provide the information under \"types\" --> \"type\" and \"name\"\n",
        "print(\"Abilities:\", [ability['ability']['name'] for ability in pokemon_char['abilities']]) ## based on documentation this provide the information under \"abilities\" -->> \"ability\" and \"name\"\n",
        "print('---')"
      ]
    },
    {
      "cell_type": "markdown",
      "source": [
        "Sample 2:\n",
        "\n",
        "The Dog API (Dog Images and Breeds)\n",
        "\n",
        "Official API Documentation: https://dog.ceo/dog-api/\n",
        "\n",
        "Specific Endpoint for this task: https://dog.ceo/api/breeds/list/all\n",
        "\n",
        "Let's use the Dog API, fetch a list of all available dog breeds. Use a for loop to print each breed and, at the end, display the total number of breeds.\n"
      ],
      "metadata": {
        "id": "eIa5vqHegA6L"
      }
    },
    {
      "cell_type": "code",
      "source": [
        "url = f\"https://dog.ceo/api/breeds/list/all\" ## based on documentation, this list out all the breeds\n",
        "response = requests.get(url)\n",
        "#breeds_raw_data = response.json()\n",
        "#print(breeds_raw_data)\n",
        "#print(type(breeds_raw_data))\n",
        "breeds_raw_data = response.json()[\"message\"] # based on documentation, the data are in dictionary, need to call the key \"message\". Got 2 dictionaries. we are accessing \"message\" dictionary\n",
        "\n",
        "for breeds in range(1):\n",
        "\n",
        "  print(\"All Dogs Breeds\")\n",
        "  print(\"---------------\")\n",
        "  my_list=breeds_raw_data ## it list out all the key under \"message\" dictionary\n",
        "  result=\"\\n\".join(my_list)\n",
        "  print(result)\n",
        "  print(\"---------------\")\n",
        "  print(f\"Total number of breeds :{len(breeds_raw_data)}\")"
      ],
      "metadata": {
        "colab": {
          "base_uri": "https://localhost:8080/"
        },
        "id": "eM3vloXbjFTb",
        "outputId": "541bd540-bfc4-4627-aa80-e3fdf3e604c8"
      },
      "execution_count": 21,
      "outputs": [
        {
          "output_type": "stream",
          "name": "stdout",
          "text": [
            "All Dogs Breeds\n",
            "---------------\n",
            "affenpinscher\n",
            "african\n",
            "airedale\n",
            "akita\n",
            "appenzeller\n",
            "australian\n",
            "bakharwal\n",
            "basenji\n",
            "beagle\n",
            "bluetick\n",
            "borzoi\n",
            "bouvier\n",
            "boxer\n",
            "brabancon\n",
            "briard\n",
            "buhund\n",
            "bulldog\n",
            "bullterrier\n",
            "cattledog\n",
            "cavapoo\n",
            "chihuahua\n",
            "chippiparai\n",
            "chow\n",
            "clumber\n",
            "cockapoo\n",
            "collie\n",
            "coonhound\n",
            "corgi\n",
            "cotondetulear\n",
            "dachshund\n",
            "dalmatian\n",
            "dane\n",
            "danish\n",
            "deerhound\n",
            "dhole\n",
            "dingo\n",
            "doberman\n",
            "elkhound\n",
            "entlebucher\n",
            "eskimo\n",
            "finnish\n",
            "frise\n",
            "gaddi\n",
            "germanshepherd\n",
            "greyhound\n",
            "groenendael\n",
            "havanese\n",
            "hound\n",
            "husky\n",
            "keeshond\n",
            "kelpie\n",
            "kombai\n",
            "komondor\n",
            "kuvasz\n",
            "labradoodle\n",
            "labrador\n",
            "leonberg\n",
            "lhasa\n",
            "malamute\n",
            "malinois\n",
            "maltese\n",
            "mastiff\n",
            "mexicanhairless\n",
            "mix\n",
            "mountain\n",
            "mudhol\n",
            "newfoundland\n",
            "otterhound\n",
            "ovcharka\n",
            "papillon\n",
            "pariah\n",
            "pekinese\n",
            "pembroke\n",
            "pinscher\n",
            "pitbull\n",
            "pointer\n",
            "pomeranian\n",
            "poodle\n",
            "pug\n",
            "puggle\n",
            "pyrenees\n",
            "rajapalayam\n",
            "redbone\n",
            "retriever\n",
            "ridgeback\n",
            "rottweiler\n",
            "saluki\n",
            "samoyed\n",
            "schipperke\n",
            "schnauzer\n",
            "segugio\n",
            "setter\n",
            "sharpei\n",
            "sheepdog\n",
            "shiba\n",
            "shihtzu\n",
            "spaniel\n",
            "spitz\n",
            "springer\n",
            "stbernard\n",
            "terrier\n",
            "tervuren\n",
            "vizsla\n",
            "waterdog\n",
            "weimaraner\n",
            "whippet\n",
            "wolfhound\n",
            "---------------\n",
            "Total number of breeds :107\n"
          ]
        }
      ]
    }
  ]
}